{
 "cells": [
  {
   "cell_type": "code",
   "execution_count": 38,
   "metadata": {},
   "outputs": [],
   "source": [
    "import torch\n",
    "import torch.nn as nn"
   ]
  },
  {
   "cell_type": "code",
   "execution_count": 39,
   "metadata": {},
   "outputs": [],
   "source": [
    "n_in, n_h, n_out, batch_size = 10, 4, 1, 10"
   ]
  },
  {
   "cell_type": "code",
   "execution_count": 40,
   "metadata": {},
   "outputs": [],
   "source": [
    "x = torch.randn(batch_size, n_in)\n",
    "y = torch.tensor([[1.0], [0.0], [0.0], [1.0], [1.0], [1.0], [0.0], [0.0], [1.0], [1.0]])"
   ]
  },
  {
   "cell_type": "code",
   "execution_count": 41,
   "metadata": {},
   "outputs": [],
   "source": [
    "model = nn.Sequential(nn.Linear(n_in, n_h),\n",
    "                     nn.ReLU(),\n",
    "                     nn.Softmax(dim  = 1),\n",
    "                     nn.Linear(n_h, n_out),\n",
    "                     nn.Sigmoid())\n",
    "#Use the ReLU in hidden layer and the Sigmoid in output layer\n",
    "#By adding more function in here, we could get difference hidden layers"
   ]
  },
  {
   "cell_type": "code",
   "execution_count": 42,
   "metadata": {},
   "outputs": [],
   "source": [
    "criterion = torch.nn.MSELoss()\n",
    "#If the reduce = False return the vector of MSE\n",
    "#If the reduce = True return the value of MSE\n",
    "# Mean Square Error loss(xi,yi) = (xi - yi)^2"
   ]
  },
  {
   "cell_type": "code",
   "execution_count": 43,
   "metadata": {},
   "outputs": [],
   "source": [
    "optim = torch.optim.SGD(model.parameters(), lr=0.01)\n",
    "#Stochastic gradient descent\n",
    "# the learning rate is 0.01"
   ]
  },
  {
   "cell_type": "code",
   "execution_count": 44,
   "metadata": {},
   "outputs": [
    {
     "name": "stdout",
     "output_type": "stream",
     "text": [
      "epoch:  0  loss:  0.2440406233072281\n",
      "epoch:  1  loss:  0.2440406233072281\n",
      "epoch:  2  loss:  0.2440406233072281\n",
      "epoch:  3  loss:  0.2440406233072281\n",
      "epoch:  4  loss:  0.2440406233072281\n",
      "epoch:  5  loss:  0.2440406233072281\n",
      "epoch:  6  loss:  0.2440406233072281\n",
      "epoch:  7  loss:  0.2440406233072281\n",
      "epoch:  8  loss:  0.2440406233072281\n",
      "epoch:  9  loss:  0.2440406233072281\n",
      "epoch:  10  loss:  0.2440406233072281\n",
      "epoch:  11  loss:  0.2440406233072281\n",
      "epoch:  12  loss:  0.2440406233072281\n",
      "epoch:  13  loss:  0.2440406233072281\n",
      "epoch:  14  loss:  0.2440406233072281\n",
      "epoch:  15  loss:  0.2440406233072281\n",
      "epoch:  16  loss:  0.2440406233072281\n",
      "epoch:  17  loss:  0.2440406233072281\n",
      "epoch:  18  loss:  0.2440406233072281\n",
      "epoch:  19  loss:  0.2440406233072281\n",
      "epoch:  20  loss:  0.2440406233072281\n",
      "epoch:  21  loss:  0.2440406233072281\n",
      "epoch:  22  loss:  0.2440406233072281\n",
      "epoch:  23  loss:  0.2440406233072281\n",
      "epoch:  24  loss:  0.2440406233072281\n",
      "epoch:  25  loss:  0.2440406233072281\n",
      "epoch:  26  loss:  0.2440406233072281\n",
      "epoch:  27  loss:  0.2440406233072281\n",
      "epoch:  28  loss:  0.2440406233072281\n",
      "epoch:  29  loss:  0.2440406233072281\n",
      "epoch:  30  loss:  0.2440406233072281\n",
      "epoch:  31  loss:  0.2440406233072281\n",
      "epoch:  32  loss:  0.2440406233072281\n",
      "epoch:  33  loss:  0.2440406233072281\n",
      "epoch:  34  loss:  0.2440406233072281\n",
      "epoch:  35  loss:  0.2440406233072281\n",
      "epoch:  36  loss:  0.2440406233072281\n",
      "epoch:  37  loss:  0.2440406233072281\n",
      "epoch:  38  loss:  0.2440406233072281\n",
      "epoch:  39  loss:  0.2440406233072281\n",
      "epoch:  40  loss:  0.2440406233072281\n",
      "epoch:  41  loss:  0.2440406233072281\n",
      "epoch:  42  loss:  0.2440406233072281\n",
      "epoch:  43  loss:  0.2440406233072281\n",
      "epoch:  44  loss:  0.2440406233072281\n",
      "epoch:  45  loss:  0.2440406233072281\n",
      "epoch:  46  loss:  0.2440406233072281\n",
      "epoch:  47  loss:  0.2440406233072281\n",
      "epoch:  48  loss:  0.2440406233072281\n",
      "epoch:  49  loss:  0.2440406233072281\n"
     ]
    }
   ],
   "source": [
    "for epoch in range(50):\n",
    "    # Forward Propagation\n",
    "    y_pred = model(x)\n",
    "    # Compute and print loss\n",
    "    loss = criterion(y_pred, y)\n",
    "    print('epoch: ', epoch,' loss: ', loss.item())\n",
    "    # Zero the gradients\n",
    "    optim.zero_grad()\n",
    "    \n",
    "    # perform a backward pass (backpropagation)\n",
    "    loss.backward()\n",
    "    \n",
    "    # Update the parameters\n",
    "    optimizer.step()"
   ]
  },
  {
   "cell_type": "code",
   "execution_count": null,
   "metadata": {},
   "outputs": [],
   "source": []
  }
 ],
 "metadata": {
  "kernelspec": {
   "display_name": "Python 3",
   "language": "python",
   "name": "python3"
  },
  "language_info": {
   "codemirror_mode": {
    "name": "ipython",
    "version": 3
   },
   "file_extension": ".py",
   "mimetype": "text/x-python",
   "name": "python",
   "nbconvert_exporter": "python",
   "pygments_lexer": "ipython3",
   "version": "3.7.1"
  }
 },
 "nbformat": 4,
 "nbformat_minor": 2
}
