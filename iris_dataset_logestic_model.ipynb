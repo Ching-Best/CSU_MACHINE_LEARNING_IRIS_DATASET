{
 "cells": [
  {
   "cell_type": "code",
   "execution_count": 1,
   "metadata": {},
   "outputs": [],
   "source": [
    "import numpy as np\n",
    "import matplotlib.pyplot as plt\n",
    "#import plotly.plotly as py\n",
    "#import plotly.graph_objs as go\n",
    "#from sklearn.decomposition import PCA\n",
    "from sklearn import datasets\n",
    "#from plotly.offline import iplot\n",
    "#import plotly\n",
    "\n",
    "#Plotly account and offline notebook"
   ]
  },
  {
   "cell_type": "code",
   "execution_count": 2,
   "metadata": {},
   "outputs": [
    {
     "name": "stdout",
     "output_type": "stream",
     "text": [
      "Iris Dataset contains 150 samples in total，4 features.\n",
      "Labels' shape 150.\n"
     ]
    }
   ],
   "source": [
    "iris = datasets.load_iris()\n",
    "'''\n",
    "    def Sigmoid(x):\n",
    "        return 1.0 / (1.0 + np.exp(-x))\n",
    "\n",
    "    x = np.arange(-10, 10, 0.1)\n",
    "    h = Sigmoid(x)  # Sigmoid\n",
    "    plot = plt.plot(x, h)\n",
    "    plt.axvline(0.0, color='k')\n",
    "    plt.axhline(y=0.5, ls='dotted', color='k')\n",
    "    plt.yticks([0.0,  0.5, 1.0])  # y axis label\n",
    "    plt.title(r'Sigmoid Plot', fontsize = 15)\n",
    "    plt.text(5,0.8,r'$y = \\frac{1}{1+e^{-z}}$', fontsize = 18)\n",
    "    plt.show()\n",
    "'''\n",
    "\n",
    "\n",
    "print(\"Iris Dataset contains %s samples in total，%s features.\"%(iris.data.shape[0], iris.data.shape[1]))\n",
    "print(\"Labels' shape %s.\" %(iris.target.shape))"
   ]
  },
  {
   "cell_type": "code",
   "execution_count": 3,
   "metadata": {},
   "outputs": [],
   "source": [
    "from sklearn.model_selection import train_test_split\n",
    "\n",
    "X = iris.data[:, :2]             # Get the first 2 columns.\n",
    "Y = iris.target\n",
    "\n",
    "x_train, x_test, y_train, y_test = train_test_split(X,Y, test_size = 0.3, random_state = 0)"
   ]
  },
  {
   "cell_type": "code",
   "execution_count": 4,
   "metadata": {},
   "outputs": [
    {
     "name": "stdout",
     "output_type": "stream",
     "text": [
      "Logistic Regression accuracy：0.829\n",
      "Logistic Regression accuracy：0.822\n"
     ]
    }
   ],
   "source": [
    "from sklearn.linear_model import LogisticRegression\n",
    "\n",
    "# lr = LogisticRegression(C = 1e5) # C: Inverse of regularization strength\n",
    "lr = LogisticRegression(penalty='l2',solver='newton-cg',multi_class='multinomial')\n",
    "lr.fit(x_train,y_train)\n",
    "#LogisticRegression(C=1.0, class_weight=None, dual=False, fit_intercept=True,\n",
    "#          intercept_scaling=1, max_iter=100, multi_class='multinomial',\n",
    "#          n_jobs=1, penalty='l2', random_state=None, solver='newton-cg',\n",
    "#          tol=0.0001, verbose=0, warm_start=False)\n",
    "\n",
    "print(\"Logistic Regression accuracy：%.3f\" %lr.score(x_train, y_train))\n",
    "print(\"Logistic Regression accuracy：%.3f\" %lr.score(x_test, y_test))"
   ]
  },
  {
   "cell_type": "code",
   "execution_count": 5,
   "metadata": {},
   "outputs": [
    {
     "name": "stdout",
     "output_type": "stream",
     "text": [
      "              precision    recall  f1-score   support\n",
      "\n",
      "      setosa       1.00      1.00      1.00        16\n",
      "  versicolor       0.81      0.72      0.76        18\n",
      "   virginica       0.62      0.73      0.67        11\n",
      "\n",
      "   micro avg       0.82      0.82      0.82        45\n",
      "   macro avg       0.81      0.82      0.81        45\n",
      "weighted avg       0.83      0.82      0.82        45\n",
      "\n"
     ]
    }
   ],
   "source": [
    "from sklearn import metrics\n",
    "y_hat = lr.predict(x_test)\n",
    "target_names = ['setosa', 'versicolor', 'virginica']\n",
    "print(metrics.classification_report(y_test, y_hat, target_names = target_names))\n",
    "#precision is caring about how useful the solution is , the recall is caring about how complete the results are\n",
    "#support is the times that each label appear\n",
    "\n",
    "# Plot the decision boundary. For that, we will assign a color to each\n",
    "# point in the mesh [x_min, x_max]x[y_min, y_max].\n",
    "x1_min, x1_max = X[:, 0].min() - .5, X[:, 0].max() + .5 # the range of column 0\n",
    "x2_min, x2_max = X[:, 1].min() - .5, X[:, 1].max() + .5 # the range of column 1\n",
    "h = .02\n",
    "x1, x2 = np.meshgrid(np.arange(x1_min, x1_max, h), np.arange(x2_min, x2_max, h))\n"
   ]
  },
  {
   "cell_type": "code",
   "execution_count": 6,
   "metadata": {},
   "outputs": [
    {
     "data": {
      "image/png": "[encoded data removed]",
      "text/plain": [
       "<Figure size 432x360 with 1 Axes>"
      ]
     },
     "metadata": {},
     "output_type": "display_data"
    }
   ],
   "source": [
    "grid_test = np.stack((x1.flat, x2.flat), axis=1)  # test nodes\n",
    "grid_hat = lr.predict(grid_test)                  # test classification\n",
    "# grid_hat = lr.predict(np.c_[x1.ravel(), x2.ravel()])\n",
    "grid_hat = grid_hat.reshape(x1.shape)\n",
    "\n",
    "plt.figure(1, figsize=(6, 5))\n",
    "#Predict outputs, three colour blocks\n",
    "plt.pcolormesh(x1, x2, grid_hat,cmap=plt.cm.Paired)\n",
    "\n",
    "# plt.scatter(X[:, 0], X[:, 1], c=Y,edgecolors='k', cmap=plt.cm.Paired)\n",
    "plt.scatter(X[:50, 0], X[:50, 1], marker = '*', edgecolors='red', label='setosa')\n",
    "plt.scatter(X[50:100, 0], X[50:100, 1], marker = '+', edgecolors='k', label='versicolor')\n",
    "plt.scatter(X[100:150, 0], X[100:150, 1], marker = 'o', edgecolors='k', label='virginica')\n",
    "plt.xlabel('Sepal length')\n",
    "plt.ylabel('Sepal width')\n",
    "plt.legend(loc = 2)\n",
    "\n",
    "plt.xlim(x1.min(), x1.max())\n",
    "plt.ylim(x2.min(), x2.max())\n",
    "plt.title(\"Logistic Regression Outputs\", fontsize = 15)\n",
    "plt.xticks(())\n",
    "plt.yticks(())\n",
    "plt.grid()\n",
    "# The setosa class is linearly seperable, while the bersicolor is not linear seperable from virginica.\n",
    "plt.show()"
   ]
  },
  {
   "cell_type": "code",
   "execution_count": null,
   "metadata": {},
   "outputs": [],
   "source": []
  }
 ],
 "metadata": {
  "kernelspec": {
   "display_name": "Python 3",
   "language": "python",
   "name": "python3"
  },
  "language_info": {
   "codemirror_mode": {
    "name": "ipython",
    "version": 3
   },
   "file_extension": ".py",
   "mimetype": "text/x-python",
   "name": "python",
   "nbconvert_exporter": "python",
   "pygments_lexer": "ipython3",
   "version": "3.7.1"
  }
 },
 "nbformat": 4,
 "nbformat_minor": 2
}
