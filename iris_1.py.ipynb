{
 "cells": [
  {
   "cell_type": "code",
   "execution_count": 2,
   "metadata": {},
   "outputs": [
    {
     "name": "stdout",
     "output_type": "stream",
     "text": [
      "[[5.1 3.5 1.4 0.2]\n",
      " [5.4 3.7 1.5 0.2]\n",
      " [5.4 3.4 1.7 0.2]\n",
      " [4.8 3.1 1.6 0.2]\n",
      " [5.  3.5 1.3 0.3]\n",
      " [7.  3.2 4.7 1.4]\n",
      " [5.  2.  3.5 1. ]\n",
      " [5.9 3.2 4.8 1.8]\n",
      " [5.5 2.4 3.8 1.1]\n",
      " [5.5 2.6 4.4 1.2]\n",
      " [6.3 3.3 6.  2.5]\n",
      " [6.5 3.2 5.1 2. ]\n",
      " [6.9 3.2 5.7 2.3]\n",
      " [7.4 2.8 6.1 1.9]\n",
      " [6.7 3.1 5.6 2.4]]\n",
      "[0 0 0 0 0 1 1 1 1 1 2 2 2 2 2]\n"
     ]
    }
   ],
   "source": [
    "from sklearn.datasets import load_iris\n",
    "iris_data = load_iris()\n",
    "features, pre_labels = iris_data.data, iris_data.target\n",
    "print (features[::10]) \n",
    "print (pre_labels[::10]) #print every 10th element"
   ]
  },
  {
   "cell_type": "code",
   "execution_count": 7,
   "metadata": {},
   "outputs": [],
   "source": [
    "labels = []\n",
    "for num in range(len(pre_labels)):\n",
    "        if pre_labels[num] == 0:\n",
    "                labels.append([1, 0, 0])\n",
    "        if pre_labels[num] == 1:\n",
    "                labels.append([0, 1, 0])\n",
    "        if pre_labels[num] == 2:\n",
    "                labels.append([0, 0, 1])\n",
    "\n",
    "import numpy as np\n",
    "labels = np.array(labels, dtype = int)"
   ]
  },
  {
   "cell_type": "code",
   "execution_count": 16,
   "metadata": {},
   "outputs": [],
   "source": [
    "from sklearn.model_selection import train_test_split\n",
    "feature_train, feature_test, labels_train, labels_test = train_test_split(features, labels)"
   ]
  },
  {
   "cell_type": "code",
   "execution_count": 18,
   "metadata": {},
   "outputs": [
    {
     "name": "stdout",
     "output_type": "stream",
     "text": [
      "112\n",
      "38\n"
     ]
    }
   ],
   "source": [
    "print (len(feature_train))\n",
    "print (len(feature_test))"
   ]
  },
  {
   "cell_type": "code",
   "execution_count": 19,
   "metadata": {},
   "outputs": [],
   "source": [
    "import torch\n",
    "import torch.nn as nn #PyTorch's module wrapper\n",
    "import torch.optim as optim #PyTorch's optimiser\n",
    "from torch.autograd import Variable #PyTorch's implementer of gradient descent and back import numpy as np\n",
    "import matplotlib.pyplot as plt #importing graph plotting functionality %matplotlib inline"
   ]
  },
  {
   "cell_type": "code",
   "execution_count": 22,
   "metadata": {},
   "outputs": [],
   "source": [
    "feature_train_v = Variable(torch.FloatTensor(feature_train), requires_grad = False)\n",
    "labels_train_v = Variable(torch.FloatTensor(labels_train), requires_grad = False)\n",
    "feature_test_v = Variable(torch.FloatTensor(feature_test), requires_grad = False)\n",
    "labels_test_v = Variable(torch.FloatTensor(labels_test), requires_grad = False)"
   ]
  },
  {
   "cell_type": "code",
   "execution_count": 23,
   "metadata": {},
   "outputs": [
    {
     "name": "stdout",
     "output_type": "stream",
     "text": [
      "tensor([5.7000, 3.0000, 4.2000, 1.2000])\n",
      "tensor([0., 1., 0.])\n"
     ]
    }
   ],
   "source": [
    "print (feature_train_v[0])\n",
    "print (labels_train_v[0])"
   ]
  },
  {
   "cell_type": "code",
   "execution_count": 30,
   "metadata": {},
   "outputs": [],
   "source": [
    "class LinearClassifier(nn.Module):\n",
    "            def __init__(self):\n",
    "                super(LinearClassifier, self).__init__()\n",
    "                self.h_layer = nn.Linear(4, 3)\n",
    "                self.s_layer = nn.Softmax()\n",
    "            def forward(self,x):\n",
    "                y = self.h_layer(x)\n",
    "                p = self.s_layer(y)\n",
    "                return p\n",
    "model = LinearClassifier() #declaring the classifier to an object loss_fn = nn.BCELoss() #calculates the loss\n",
    "loss_fn = nn.BCELoss() #calculates the loss\n",
    "optim = torch.optim.SGD(model.parameters(), lr = 0.01)"
   ]
  },
  {
   "cell_type": "code",
   "execution_count": 32,
   "metadata": {},
   "outputs": [
    {
     "name": "stderr",
     "output_type": "stream",
     "text": [
      "/anaconda3/lib/python3.7/site-packages/ipykernel_launcher.py:8: UserWarning: Implicit dimension choice for softmax has been deprecated. Change the call to include dim=X as an argument.\n",
      "  \n"
     ]
    }
   ],
   "source": [
    "all_losses = []\n",
    "for num in range(5000): #5000 iterations\n",
    "    pred = model(feature_train_v) #predict\n",
    "    loss = loss_fn(pred, labels_train_v) #calculate loss all_losses.append(loss.data)\n",
    "    all_losses.append(loss.data)\n",
    "    optim.zero_grad()\n",
    "    loss.backward()\n",
    "    optim.step()"
   ]
  },
  {
   "cell_type": "code",
   "execution_count": 39,
   "metadata": {},
   "outputs": [
    {
     "data": {
      "image/png": "[encoded data removed]",
      "text/plain": [
       "<Figure size 432x288 with 1 Axes>"
      ]
     },
     "metadata": {
      "needs_background": "light"
     },
     "output_type": "display_data"
    },
    {
     "name": "stdout",
     "output_type": "stream",
     "text": [
      "tensor([9.2164e-01, 7.8265e-02, 9.8591e-05], grad_fn=<SelectBackward>)\n",
      "tensor([1., 0., 0.])\n",
      "0.16343936324119568\n"
     ]
    }
   ],
   "source": [
    "import matplotlib.pyplot as plt\n",
    "%matplotlib inline\n",
    "all_losses = np.array(all_losses, dtype = np.float)\n",
    "plt.plot(all_losses)\n",
    "plt.show()\n",
    "print(pred[3])\n",
    "print(labels_train_v[3])\n",
    "print(all_losses[-1])"
   ]
  },
  {
   "cell_type": "code",
   "execution_count": 40,
   "metadata": {},
   "outputs": [
    {
     "name": "stderr",
     "output_type": "stream",
     "text": [
      "/anaconda3/lib/python3.7/site-packages/ipykernel_launcher.py:8: UserWarning: Implicit dimension choice for softmax has been deprecated. Change the call to include dim=X as an argument.\n",
      "  \n"
     ]
    }
   ],
   "source": [
    "from sklearn.metrics import accuracy_score\n",
    "predicted_values = []\n",
    "for num in range(len(feature_test_v)):\n",
    "    predicted_values.append(model(feature_test_v[num]))"
   ]
  },
  {
   "cell_type": "code",
   "execution_count": null,
   "metadata": {},
   "outputs": [],
   "source": []
  }
 ],
 "metadata": {
  "kernelspec": {
   "display_name": "Python 3",
   "language": "python",
   "name": "python3"
  },
  "language_info": {
   "codemirror_mode": {
    "name": "ipython",
    "version": 3
   },
   "file_extension": ".py",
   "mimetype": "text/x-python",
   "name": "python",
   "nbconvert_exporter": "python",
   "pygments_lexer": "ipython3",
   "version": "3.7.1"
  }
 },
 "nbformat": 4,
 "nbformat_minor": 2
}
