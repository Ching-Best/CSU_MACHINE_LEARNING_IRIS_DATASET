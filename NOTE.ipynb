{
 "cells": [
  {
   "cell_type": "markdown",
   "metadata": {},
   "source": [
    "# Ideas for where to go next:\n",
    "Harder datasets\n",
    "More complicated/sophisticated archictectes\n",
    "-LSTM's (long-short term memory) time series in general\n",
    "-GAN's (generative networks) generate fake thing\n",
    "-Start to move toward potential novel things\n",
    "\"Real research\"\n",
    "Adversarial example:\n",
    "A picture with a clear classification that after slight alteration deep learning algorithm misclassifies\n"
   ]
  }
 ],
 "metadata": {
  "kernelspec": {
   "display_name": "Python 3",
   "language": "python",
   "name": "python3"
  },
  "language_info": {
   "codemirror_mode": {
    "name": "ipython",
    "version": 3
   },
   "file_extension": ".py",
   "mimetype": "text/x-python",
   "name": "python",
   "nbconvert_exporter": "python",
   "pygments_lexer": "ipython3",
   "version": "3.7.1"
  }
 },
 "nbformat": 4,
 "nbformat_minor": 2
}
